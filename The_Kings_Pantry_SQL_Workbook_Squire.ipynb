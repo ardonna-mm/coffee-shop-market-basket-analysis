{
  "cells": [
    {
      "cell_type": "markdown",
      "metadata": {
        "id": "view-in-github",
        "colab_type": "text"
      },
      "source": [
        "<a href=\"https://colab.research.google.com/github/ardonna-mm/coffee-shop-market-basket-analysis/blob/main/The_Kings_Pantry_SQL_Workbook_Squire.ipynb\" target=\"_parent\"><img src=\"https://colab.research.google.com/assets/colab-badge.svg\" alt=\"Open In Colab\"/></a>"
      ]
    },
    {
      "cell_type": "markdown",
      "id": "OIsn_N41R4OP",
      "metadata": {
        "id": "OIsn_N41R4OP"
      },
      "source": [
        "# 🏰 The King's Pantry SQL Colab Notebook I — The Squire’s Path\n",
        "\n",
        "**Author:** Ardonna Cardines (Mercury Musings)  \n",
        "**Dataset:** [the_kings_pantry](https://github.com/ardonna-mm/the-kings-pantry) *(ANSI SQL; compatible with MySQL and SQL Server)*  \n",
        "\n",
        "**Prologue — The Royal Ledger Awakens**  \n",
        "In the storerooms beneath the castle, you find a ledger older than the throne itself. Columns inked in tidy hands; rows etched like trade routes across the realm.  \n",
        "\n",
        "Today, we learn to read it — and more importantly, to ask it better questions.  \n",
        "\n",
        "---\n",
        "\n",
        "### 🧭 About This Notebook  \n",
        "This notebook is a **guided SQL workbook** for analysts who love storytelling and structure. All setup is handled for you — just run each cell in order.  \n",
        "\n",
        "You’ll learn how to:  \n",
        "\n",
        "- SELECT\n",
        "- WHERE\n",
        "- ORDER BY\n",
        "- DISTINCT\n",
        "- Simple filters\n",
        "\n",
        "**No setup required.** Everything runs in this notebook.  \n",
        "\n",
        "---\n",
        "\n",
        "**Once you master this notebook, check out:**  \n",
        "👉 *The King’s Pantry: Lord Commander of the Kingsguard*\n",
        "\n",
        "You’ll learn:\n",
        "\n",
        "- JOINs\n",
        "- GROUP BY\n",
        "- CASE\n",
        "- Subqueries\n",
        "- Aggregate logic\n",
        "\n",
        "You'll be challenged to:\n",
        "- Manually data load\n",
        "- Less code walkthroughs\n"
      ]
    },
    {
      "cell_type": "code",
      "execution_count": 8,
      "id": "VI8adftUCuxc",
      "metadata": {
        "colab": {
          "base_uri": "https://localhost:8080/"
        },
        "id": "VI8adftUCuxc",
        "outputId": "ad08cf9f-f2c1-49ef-b034-22b45461866c"
      },
      "outputs": [
        {
          "output_type": "stream",
          "name": "stdout",
          "text": [
            "✅ Realm initialized! Your data is ready to query.\n",
            "Available tables: products, vendors, customers, sales_orders, sales_order_details\n"
          ]
        }
      ],
      "source": [
        "# 🏗️ STEP 1: Load The King's Pantry Realm\n",
        "# -------------------------------------------------------------\n",
        "# This cell installs dependencies and loads all CSV data automatically.\n",
        "# Once you see the ✅ message, your realm is ready to explore.\n",
        "\n",
        "!pip install duckdb pandas -q\n",
        "\n",
        "import duckdb\n",
        "import pandas as pd\n",
        "\n",
        "base_url = \"https://raw.githubusercontent.com/ardonna-mm/the-kings-pantry/main/data/\"\n",
        "\n",
        "tables = {\n",
        "    \"product\": \"product.csv\",\n",
        "    \"brand\": \"brand.csv\",\n",
        "    \"vendor\": \"vendor.csv\",\n",
        "    \"customer\": \"customer.csv\",\n",
        "    \"sales_order\": \"sales_order.csv\",\n",
        "    \"sales_order_details\": \"sales_order_details.csv\"\n",
        "}\n",
        "\n",
        "for name, file in tables.items():\n",
        "    df = pd.read_csv(base_url + file)\n",
        "    duckdb.register(name, df)\n",
        "\n",
        "print(\"✅ Realm initialized! Your data is ready to query.\")\n",
        "print(\"Available tables: products, vendors, customers, sales_orders, sales_order_details\")\n"
      ]
    },
    {
      "cell_type": "markdown",
      "id": "aifydcTBCQKW",
      "metadata": {
        "id": "aifydcTBCQKW"
      },
      "source": [
        "\n",
        "## 🧱 Squires of the Realm\n",
        "*The squires gather in the candlelit hall, parchment scattered, quills poised. Each query is a new spell — a whisper in the ledger of the realm.*  \n",
        "\n",
        "**Focus:** SELECT, WHERE, ORDER BY, DISTINCT, LIMIT/FETCH, simple expressions."
      ]
    },
    {
      "cell_type": "markdown",
      "id": "fFVyWwC6R4OQ",
      "metadata": {
        "id": "fFVyWwC6R4OQ"
      },
      "source": [
        "### ☠️ Quest 1 — Vendors of The North\n",
        "\n",
        "**Objective:** Filter rows with WHERE\n",
        "\n",
        "Retrieve all vendors located in **The North**. Show `vendor_name` and `region`."
      ]
    },
    {
      "cell_type": "code",
      "execution_count": 9,
      "id": "TEE3N1toR4OR",
      "metadata": {
        "colab": {
          "base_uri": "https://localhost:8080/"
        },
        "id": "TEE3N1toR4OR",
        "outputId": "079990e3-67c3-4494-ad52-bd8e551b98bd"
      },
      "outputs": [
        {
          "output_type": "execute_result",
          "data": {
            "text/plain": [
              "┌────────────────────────┬───────────┐\n",
              "│      vendor_name       │  region   │\n",
              "│        varchar         │  varchar  │\n",
              "├────────────────────────┼───────────┤\n",
              "│ Northwind Frozen Foods │ The North │\n",
              "└────────────────────────┴───────────┘"
            ]
          },
          "metadata": {},
          "execution_count": 9
        }
      ],
      "source": [
        "duckdb.sql(\"\"\"\n",
        "SELECT vendor_name, region\n",
        "FROM vendor\n",
        "WHERE region = 'The North';\n",
        "\"\"\")"
      ]
    },
    {
      "cell_type": "markdown",
      "id": "ghSsRtdmR4OR",
      "metadata": {
        "id": "ghSsRtdmR4OR"
      },
      "source": [
        "### 👽 Quest 2 — Private Label Brands (first five)\n",
        "\n",
        "**Objective:** Limit results and select specific columns\n",
        "\n",
        "List the first five private label brands with `brand_name` and `private_label_tier`."
      ]
    },
    {
      "cell_type": "code",
      "execution_count": 10,
      "id": "NKLDQ6nfR4OS",
      "metadata": {
        "id": "NKLDQ6nfR4OS",
        "colab": {
          "base_uri": "https://localhost:8080/"
        },
        "outputId": "32b77200-e588-4f6e-861d-96f2ef66aa85"
      },
      "outputs": [
        {
          "output_type": "execute_result",
          "data": {
            "text/plain": [
              "┌──────────────────────────┬────────────────────┐\n",
              "│        brand_name        │ private_label_tier │\n",
              "│         varchar          │      varchar       │\n",
              "├──────────────────────────┼────────────────────┤\n",
              "│ Crown Reserve            │ Luxury             │\n",
              "│ Smallfolk Essentials     │ Value              │\n",
              "│ The King’s Pantry Select │ Premium            │\n",
              "└──────────────────────────┴────────────────────┘"
            ]
          },
          "metadata": {},
          "execution_count": 10
        }
      ],
      "source": [
        "duckdb.sql(\"\"\"\n",
        "SELECT brand_name, private_label_tier\n",
        "FROM brand\n",
        "WHERE brand_type = 'Private Label'\n",
        "ORDER BY brand_name\n",
        "FETCH FIRST 5 ROWS ONLY;\n",
        "\"\"\")"
      ]
    },
    {
      "cell_type": "markdown",
      "id": "sKJnHf8gR4OS",
      "metadata": {
        "id": "sKJnHf8gR4OS"
      },
      "source": [
        "### 🎃 Quest 3 — Pantry Essentials Catalog\n",
        "\n",
        "**Objective:** Filter by category\n",
        "\n",
        "Show `product_name`, `item_taxonomy_1`, `item_taxonomy_2`, `base_price` for products in **Pantry Essentials**."
      ]
    },
    {
      "cell_type": "code",
      "execution_count": 11,
      "id": "0Wew9lKGR4OS",
      "metadata": {
        "id": "0Wew9lKGR4OS",
        "colab": {
          "base_uri": "https://localhost:8080/"
        },
        "outputId": "0c83b498-c55c-44e2-ebe7-d1d9f6885bc8"
      },
      "outputs": [
        {
          "output_type": "execute_result",
          "data": {
            "text/plain": [
              "┌────────────────────────────────────────────────────────────┬───────────────────┬─────────────────┬────────────┐\n",
              "│                        product_name                        │  item_taxonomy_1  │ item_taxonomy_2 │ base_price │\n",
              "│                          varchar                           │      varchar      │     varchar     │   double   │\n",
              "├────────────────────────────────────────────────────────────┼───────────────────┼─────────────────┼────────────┤\n",
              "│ Crown Reserve Golden Dorne Tomato Paste (32 oz)            │ Pantry Essentials │ Sauces          │       6.94 │\n",
              "│ Crown Reserve Golden Oldtown Pasta (16 oz)                 │ Pantry Essentials │ Spreads         │       5.37 │\n",
              "│ Crown Reserve Herbal The North Olive Oil (16 oz)           │ Pantry Essentials │ Canned          │      12.05 │\n",
              "│ Crown Reserve Honeyed The Vale Beans (32 oz)               │ Pantry Essentials │ Canned          │       9.74 │\n",
              "│ Crown Reserve Oak-Aged Iron Islands Broth (32 oz)          │ Pantry Essentials │ Sauces          │       7.54 │\n",
              "│ Crown Reserve Oak-Aged The Reach Olive Oil (32 oz)         │ Pantry Essentials │ Oils            │       4.47 │\n",
              "│ Crown Reserve Sea-Salted Highgarden Broth (16 oz)          │ Pantry Essentials │ Grains          │      10.66 │\n",
              "│ Crown Reserve Sea-Salted The Vale Olive Oil (2 lb)         │ Pantry Essentials │ Baking          │       9.72 │\n",
              "│ Crown Reserve Spiced Dragonstone Oats (12 oz)              │ Pantry Essentials │ Canned          │        6.5 │\n",
              "│ Crown Reserve Spiced The Vale Pasta (1 kg)                 │ Pantry Essentials │ Canned          │      15.59 │\n",
              "│                     ·                                      │         ·         │   ·             │         ·  │\n",
              "│                     ·                                      │         ·         │   ·             │         ·  │\n",
              "│                     ·                                      │         ·         │   ·             │         ·  │\n",
              "│ Vale Harvest Co. Spiced Crownlands Flour (12 oz)           │ Pantry Essentials │ Spreads         │       4.28 │\n",
              "│ Vale Harvest Co. Spiced Dorne Beans (32 oz)                │ Pantry Essentials │ Sauces          │       3.74 │\n",
              "│ Vale Harvest Co. Spiced The North Beans (16 oz)            │ Pantry Essentials │ Sauces          │       5.88 │\n",
              "│ Vale Harvest Co. Stone-Ground Crownlands Olive Oil (32 oz) │ Pantry Essentials │ Grains          │       2.41 │\n",
              "│ Vale Harvest Co. Stone-Ground Crownlands Rice (1 kg)       │ Pantry Essentials │ Canned          │       5.41 │\n",
              "│ Vale Harvest Co. Stone-Ground Dorne Tomato Paste (32 oz)   │ Pantry Essentials │ Baking          │       3.57 │\n",
              "│ Vale Harvest Co. Stone-Ground Highgarden Pasta (12 oz)     │ Pantry Essentials │ Grains          │       3.56 │\n",
              "│ Vale Harvest Co. Vintage Dragonstone Beans (12 oz)         │ Pantry Essentials │ Canned          │       4.09 │\n",
              "│ Vale Harvest Co. Vintage The Vale Beans (16 oz)            │ Pantry Essentials │ Grains          │       6.05 │\n",
              "│ Vale Harvest Co. Wild The Reach Broth (2 lb)               │ Pantry Essentials │ Canned          │        6.1 │\n",
              "├────────────────────────────────────────────────────────────┴───────────────────┴─────────────────┴────────────┤\n",
              "│ 137 rows (20 shown)                                                                                 4 columns │\n",
              "└───────────────────────────────────────────────────────────────────────────────────────────────────────────────┘"
            ]
          },
          "metadata": {},
          "execution_count": 11
        }
      ],
      "source": [
        "duckdb.sql(\"\"\"\n",
        "SELECT product_name, item_taxonomy_1, item_taxonomy_2, base_price\n",
        "FROM product\n",
        "WHERE item_taxonomy_1 = 'Pantry Essentials'\n",
        "ORDER BY product_name;\n",
        "\"\"\")"
      ]
    },
    {
      "cell_type": "markdown",
      "id": "5Kg0HQhmR4OT",
      "metadata": {
        "id": "5Kg0HQhmR4OT"
      },
      "source": [
        "### 🙀 Quest 4 — Highest Margin SKUs\n",
        "\n",
        "**Objective:** Sort descending by a numeric column\n",
        "\n",
        "Return top 10 products by `margin_percentage`."
      ]
    },
    {
      "cell_type": "code",
      "execution_count": 12,
      "id": "j9X1cV25R4OT",
      "metadata": {
        "id": "j9X1cV25R4OT",
        "colab": {
          "base_uri": "https://localhost:8080/"
        },
        "outputId": "1db99214-c19a-49b5-db96-e99d3af5e569"
      },
      "outputs": [
        {
          "output_type": "execute_result",
          "data": {
            "text/plain": [
              "┌────────────┬─────────────────────────────────────────────────────────┬───────────────────┐\n",
              "│ product_id │                      product_name                       │ margin_percentage │\n",
              "│   int64    │                         varchar                         │      double       │\n",
              "├────────────┼─────────────────────────────────────────────────────────┼───────────────────┤\n",
              "│       3231 │ Crown Reserve Roasted Highgarden Carrots (Bunch)        │             64.85 │\n",
              "│       3050 │ Crown Reserve Oak-Aged Iron Islands Broth (32 oz)       │             64.55 │\n",
              "│       3406 │ Crown Reserve Oak-Aged Dorne Fish Pie (4-Pack)          │             64.53 │\n",
              "│       3429 │ Crown Reserve Wild Dorne Pigeon Pie (4-Pack)            │             64.51 │\n",
              "│       3059 │ Crown Reserve Herbal The North Olive Oil (16 oz)        │             64.38 │\n",
              "│       3178 │ Crown Reserve Wild Crownlands Herbal Tea (500 ml)       │             64.27 │\n",
              "│       3359 │ Crown Reserve Sea-Salted The Vale Almond Cookie (16 oz) │             64.15 │\n",
              "│       3187 │ Crown Reserve Herbal Dragonstone Ale (500 ml)           │              63.5 │\n",
              "│       3310 │ Crown Reserve Roasted The Vale Venison Cuts (12 oz)     │             63.46 │\n",
              "│       3150 │ Crown Reserve Golden The Vale Cold Brew (750 ml)        │             63.34 │\n",
              "├────────────┴─────────────────────────────────────────────────────────┴───────────────────┤\n",
              "│ 10 rows                                                                        3 columns │\n",
              "└──────────────────────────────────────────────────────────────────────────────────────────┘"
            ]
          },
          "metadata": {},
          "execution_count": 12
        }
      ],
      "source": [
        "duckdb.sql(\"\"\"\n",
        "SELECT product_id, product_name, margin_percentage\n",
        "FROM product\n",
        "ORDER BY margin_percentage DESC\n",
        "FETCH FIRST 10 ROWS ONLY;\n",
        "\"\"\")"
      ]
    },
    {
      "cell_type": "markdown",
      "id": "8GDE4k1-R4OT",
      "metadata": {
        "id": "8GDE4k1-R4OT"
      },
      "source": [
        "### 💀 Quest 5 — Discontinued Products\n",
        "\n",
        "**Objective:** Boolean flag filters\n",
        "\n",
        "List `product_id`, `product_name` where `is_discontinued_flag = 1`."
      ]
    },
    {
      "cell_type": "code",
      "execution_count": 13,
      "id": "3K1CDrCdR4OT",
      "metadata": {
        "id": "3K1CDrCdR4OT",
        "colab": {
          "base_uri": "https://localhost:8080/"
        },
        "outputId": "a91f06c8-144b-4b12-e058-2aae7cd2c9e3"
      },
      "outputs": [
        {
          "output_type": "execute_result",
          "data": {
            "text/plain": [
              "┌────────────┬─────────────────────────────────────────────────────────────────────┐\n",
              "│ product_id │                            product_name                             │\n",
              "│   int64    │                               varchar                               │\n",
              "├────────────┼─────────────────────────────────────────────────────────────────────┤\n",
              "│       3005 │ The King’s Pantry Select Roasted Stormlands Olive Oil (12 oz)       │\n",
              "│       3010 │ Smallfolk Essentials Spiced Highgarden Beans (16 oz)                │\n",
              "│       3013 │ The King’s Pantry Select Vintage Dorne Tomato Paste (1 kg)          │\n",
              "│       3017 │ Crown Reserve Golden Oldtown Pasta (16 oz)                          │\n",
              "│       3021 │ The King’s Pantry Select Golden Highgarden Rice (32 oz)             │\n",
              "│       3026 │ Smallfolk Essentials Sea-Salted The Vale Pasta (16 oz)              │\n",
              "│       3036 │ The King’s Pantry Select Roasted The North Tomato Paste (16 oz)     │\n",
              "│       3041 │ The King’s Pantry Select Vintage Dragonstone Flour (1 kg)           │\n",
              "│       3044 │ Crown Reserve Vintage The Reach Oats (16 oz)                        │\n",
              "│       3046 │ Smallfolk Essentials Wild Oldtown Oats (2 lb)                       │\n",
              "│         ·  │                       ·                                             │\n",
              "│         ·  │                       ·                                             │\n",
              "│         ·  │                       ·                                             │\n",
              "│       3463 │ Smallfolk Essentials Wild The Vale Honey Jar (250 ml)               │\n",
              "│       3466 │ The King’s Pantry Select Stone-Ground Highgarden Olive Oil (500 ml) │\n",
              "│       3469 │ Smallfolk Essentials Honeyed Iron Islands Saffron Threads (8 oz)    │\n",
              "│       3482 │ The King’s Pantry Select Roasted The North Mustard (200 g)          │\n",
              "│       3492 │ Dornish Spice Traders Herbal Iron Islands Sea Salt (500 ml)         │\n",
              "│       3497 │ Dornish Spice Traders Honeyed Oldtown Honey Jar (8 oz)              │\n",
              "│       3517 │ Crown Reserve Oak-Aged Oldtown All-Purpose Spray (3-Pack)           │\n",
              "│       3519 │ Crown Reserve Sea-Salted Iron Islands Scrubbing Brush (250 ml)      │\n",
              "│       3526 │ Maester’s Apothecary Co. Spiced Stormlands Bucket (Each)            │\n",
              "│       3537 │ Maester’s Apothecary Co. Herbal Crownlands Herbal Salve (500 ml)    │\n",
              "├────────────┴─────────────────────────────────────────────────────────────────────┤\n",
              "│ 66 rows (20 shown)                                                     2 columns │\n",
              "└──────────────────────────────────────────────────────────────────────────────────┘"
            ]
          },
          "metadata": {},
          "execution_count": 13
        }
      ],
      "source": [
        "duckdb.sql(\"\"\"\n",
        "SELECT product_id, product_name\n",
        "FROM product\n",
        "WHERE is_discontinued_flag = 1\n",
        "ORDER BY product_id;\n",
        "\"\"\")"
      ]
    },
    {
      "cell_type": "markdown",
      "id": "QDsXmkh7R4OU",
      "metadata": {
        "id": "QDsXmkh7R4OU"
      },
      "source": [
        "### 🪭 Quest 6 — Active Vendor Count\n",
        "\n",
        "**Objective:** Aggregate count with simple filter\n",
        "\n",
        "Count how many vendors are currently active (`is_active_flag = 1`)."
      ]
    },
    {
      "cell_type": "code",
      "execution_count": 14,
      "id": "1cQQBhI6R4OU",
      "metadata": {
        "id": "1cQQBhI6R4OU",
        "colab": {
          "base_uri": "https://localhost:8080/"
        },
        "outputId": "8ccf9e24-8b68-4c66-fa28-010ac7120587"
      },
      "outputs": [
        {
          "output_type": "execute_result",
          "data": {
            "text/plain": [
              "┌─────────────────────┐\n",
              "│ active_vendor_count │\n",
              "│        int64        │\n",
              "├─────────────────────┤\n",
              "│                  11 │\n",
              "└─────────────────────┘"
            ]
          },
          "metadata": {},
          "execution_count": 14
        }
      ],
      "source": [
        "duckdb.sql(\"\"\"\n",
        "SELECT COUNT(*) AS active_vendor_count\n",
        "FROM vendor\n",
        "WHERE is_active_flag = 1;\n",
        "\"\"\")"
      ]
    },
    {
      "cell_type": "markdown",
      "id": "Ja4UECnfR4OU",
      "metadata": {
        "id": "Ja4UECnfR4OU"
      },
      "source": [
        "### 🎩 Quest 7 — Distinct Departments\n",
        "\n",
        "**Objective:** SELECT DISTINCT for categorical exploration\n",
        "\n",
        "Show distinct values of `item_taxonomy_1` from `product`."
      ]
    },
    {
      "cell_type": "code",
      "execution_count": 15,
      "id": "oJqUy19lR4OU",
      "metadata": {
        "id": "oJqUy19lR4OU",
        "colab": {
          "base_uri": "https://localhost:8080/"
        },
        "outputId": "6b2a5565-2b6f-49aa-8eb4-6116b598ffbc"
      },
      "outputs": [
        {
          "output_type": "execute_result",
          "data": {
            "text/plain": [
              "┌───────────────────────────────────┐\n",
              "│          item_taxonomy_1          │\n",
              "│              varchar              │\n",
              "├───────────────────────────────────┤\n",
              "│ Apothecary & Household Essentials │\n",
              "│ Bakery & Sweets                   │\n",
              "│ Beverages                         │\n",
              "│ Frozen & Prepared                 │\n",
              "│ Gourmet & Specialty               │\n",
              "│ Meat & Seafood                    │\n",
              "│ Pantry Essentials                 │\n",
              "│ Produce                           │\n",
              "└───────────────────────────────────┘"
            ]
          },
          "metadata": {},
          "execution_count": 15
        }
      ],
      "source": [
        "duckdb.sql(\"\"\"\n",
        "SELECT DISTINCT item_taxonomy_1\n",
        "FROM product\n",
        "ORDER BY item_taxonomy_1;\n",
        "\"\"\")"
      ]
    },
    {
      "cell_type": "markdown",
      "id": "3uEIWVu5R4OU",
      "metadata": {
        "id": "3uEIWVu5R4OU"
      },
      "source": [
        "### 👩‍👩‍👧‍👧 Quest 8 — Customers in Dorne\n",
        "\n",
        "**Objective:** Basic filtering by realm\n",
        "\n",
        "Return `first_name`, `last_name`, `realm` for customers in **Dorne**."
      ]
    },
    {
      "cell_type": "code",
      "execution_count": 16,
      "id": "v9awDTRrR4OV",
      "metadata": {
        "id": "v9awDTRrR4OV",
        "colab": {
          "base_uri": "https://localhost:8080/"
        },
        "outputId": "5dcaf749-6ed2-4381-d63e-095c1c902e4d"
      },
      "outputs": [
        {
          "output_type": "execute_result",
          "data": {
            "text/plain": [
              "┌─────────────────────┬───────────┬─────────┐\n",
              "│     first_name      │ last_name │  realm  │\n",
              "│       varchar       │  varchar  │ varchar │\n",
              "├─────────────────────┼───────────┼─────────┤\n",
              "│ Brienne             │ Arryn     │ Dorne   │\n",
              "│ Davos               │ Arryn     │ Dorne   │\n",
              "│ Jon                 │ Arryn     │ Dorne   │\n",
              "│ Jorah               │ Arryn     │ Dorne   │\n",
              "│ Oberyn              │ Arryn     │ Dorne   │\n",
              "│ Olenna              │ Arryn     │ Dorne   │\n",
              "│ Stannis             │ Arryn     │ Dorne   │\n",
              "│ Bran                │ Baratheon │ Dorne   │\n",
              "│ Daenerys            │ Baratheon │ Dorne   │\n",
              "│ Daenerys            │ Baratheon │ Dorne   │\n",
              "│   ·                 │  ·        │   ·     │\n",
              "│   ·                 │  ·        │   ·     │\n",
              "│   ·                 │  ·        │   ·     │\n",
              "│ Lyanna              │ NULL      │ Dorne   │\n",
              "│ Merchant Guild 9004 │ NULL      │ Dorne   │\n",
              "│ Missandei           │ NULL      │ Dorne   │\n",
              "│ Olenna              │ NULL      │ Dorne   │\n",
              "│ Samwell             │ NULL      │ Dorne   │\n",
              "│ Samwell             │ NULL      │ Dorne   │\n",
              "│ Samwell             │ NULL      │ Dorne   │\n",
              "│ Tavern 6040         │ NULL      │ Dorne   │\n",
              "│ Tavern 6061         │ NULL      │ Dorne   │\n",
              "│ Tavern 6103         │ NULL      │ Dorne   │\n",
              "├─────────────────────┴───────────┴─────────┤\n",
              "│ 425 rows (20 shown)             3 columns │\n",
              "└───────────────────────────────────────────┘"
            ]
          },
          "metadata": {},
          "execution_count": 16
        }
      ],
      "source": [
        "duckdb.sql(\"\"\"\n",
        "SELECT first_name, last_name, realm\n",
        "FROM customer\n",
        "WHERE realm = 'Dorne'\n",
        "ORDER BY last_name, first_name;\n",
        "\"\"\")"
      ]
    },
    {
      "cell_type": "markdown",
      "id": "l5Sj7UTER4OV",
      "metadata": {
        "id": "l5Sj7UTER4OV"
      },
      "source": [
        "### 🫅🏻 Quest 9 — Price vs Cost\n",
        "\n",
        "**Objective:** Derived columns with arithmetic\n",
        "\n",
        "For each product, show `product_name`, `base_price`, `landed_cost`, and a column `price_minus_cost`."
      ]
    },
    {
      "cell_type": "code",
      "execution_count": 17,
      "id": "jAgPeItzR4OV",
      "metadata": {
        "id": "jAgPeItzR4OV",
        "colab": {
          "base_uri": "https://localhost:8080/"
        },
        "outputId": "b60cbcad-1857-48f0-a6a9-1cff33db39b7"
      },
      "outputs": [
        {
          "output_type": "execute_result",
          "data": {
            "text/plain": [
              "┌──────────────────────────────────────────────────────────────────┬────────────┬─────────────┬─────────────────────┐\n",
              "│                           product_name                           │ base_price │ landed_cost │  price_minus_cost   │\n",
              "│                             varchar                              │   double   │   double    │       double        │\n",
              "├──────────────────────────────────────────────────────────────────┼────────────┼─────────────┼─────────────────────┤\n",
              "│ Crown Reserve Wild The Vale Chicken Breast (16 oz)               │      53.87 │       19.82 │               34.05 │\n",
              "│ Crown Reserve Roasted The Vale Venison Cuts (12 oz)              │      42.76 │       15.62 │               27.14 │\n",
              "│ Crown Reserve Wild Dorne Pigeon Pie (4-Pack)                     │      32.72 │       11.61 │               21.11 │\n",
              "│ Crown Reserve Oak-Aged Dorne Fish Pie (4-Pack)                   │      32.47 │       11.52 │               20.95 │\n",
              "│ Crown Reserve Vintage Dorne Herb Dumplings (4-Pack)              │      31.79 │       12.25 │               19.54 │\n",
              "│ Crown Reserve Herbal Dragonstone Ale (500 ml)                    │      30.03 │       10.96 │               19.07 │\n",
              "│ Dornish Spice Traders Wild The North Sea Salt (250 ml)           │      30.06 │       12.08 │  17.979999999999997 │\n",
              "│ Crown Reserve Stone-Ground Oldtown Red Wine (750 ml)             │      26.69 │        9.79 │  16.900000000000002 │\n",
              "│ Dornish Spice Traders Stone-Ground Stormlands Spice Blend (8 oz) │       31.5 │       14.92 │               16.58 │\n",
              "│ Crown Reserve Sea-Salted Iron Islands Scrubbing Brush (250 ml)   │      30.77 │       14.25 │               16.52 │\n",
              "│                           ·                                      │         ·  │          ·  │                 ·   │\n",
              "│                           ·                                      │         ·  │          ·  │                 ·   │\n",
              "│                           ·                                      │         ·  │          ·  │                 ·   │\n",
              "│ Vale Harvest Co. Sea-Salted Dragonstone Pasta (16 oz)            │       1.98 │         1.6 │  0.3799999999999999 │\n",
              "│ Vale Harvest Co. Honeyed Stormlands Rice (12 oz)                 │       2.12 │        1.75 │  0.3700000000000001 │\n",
              "│ Vale Harvest Co. Sea-Salted Oldtown Flour (2 lb)                 │       2.85 │         2.5 │  0.3500000000000001 │\n",
              "│ Vale Harvest Co. Sea-Salted Iron Islands Pasta (2 lb)            │       2.18 │        1.85 │ 0.33000000000000007 │\n",
              "│ Vale Harvest Co. Oak-Aged Dorne Flour (32 oz)                    │       2.56 │        2.24 │ 0.31999999999999984 │\n",
              "│ Vale Harvest Co. Roasted Oldtown Rice (16 oz)                    │       1.64 │        1.32 │ 0.31999999999999984 │\n",
              "│ Vale Harvest Co. Roasted The Reach Pasta (32 oz)                 │       2.09 │        1.79 │  0.2999999999999998 │\n",
              "│ Vale Harvest Co. Sea-Salted The Vale Pasta (2 lb)                │       2.05 │        1.81 │ 0.23999999999999977 │\n",
              "│ Vale Harvest Co. Golden Oldtown Rice (2 lb)                      │       2.02 │        1.81 │ 0.20999999999999996 │\n",
              "│ Vale Harvest Co. Roasted Crownlands Oats (1 kg)                  │       1.74 │        1.54 │ 0.19999999999999996 │\n",
              "├──────────────────────────────────────────────────────────────────┴────────────┴─────────────┴─────────────────────┤\n",
              "│ 540 rows (20 shown)                                                                                     4 columns │\n",
              "└───────────────────────────────────────────────────────────────────────────────────────────────────────────────────┘"
            ]
          },
          "metadata": {},
          "execution_count": 17
        }
      ],
      "source": [
        "duckdb.sql(\"\"\"\n",
        "SELECT product_name, base_price, landed_cost,\n",
        "       (base_price - landed_cost) AS price_minus_cost\n",
        "FROM product\n",
        "ORDER BY price_minus_cost DESC;\n",
        "\"\"\")"
      ]
    },
    {
      "cell_type": "markdown",
      "id": "PsU4B4lAR4OV",
      "metadata": {
        "id": "PsU4B4lAR4OV"
      },
      "source": [
        "### ☕️ Quest 10 — Filter by Unit Size\n",
        "\n",
        "**Objective:** Text equality\n",
        "\n",
        "List all products sold in `16 oz` packaging."
      ]
    },
    {
      "cell_type": "code",
      "execution_count": 18,
      "id": "4D9SZq-SR4OW",
      "metadata": {
        "id": "4D9SZq-SR4OW",
        "colab": {
          "base_uri": "https://localhost:8080/"
        },
        "outputId": "3ea4b31d-577d-4387-82a1-2c9bd2d57459"
      },
      "outputs": [
        {
          "output_type": "execute_result",
          "data": {
            "text/plain": [
              "┌────────────┬─────────────────────────────────────────────────────────────────────┬───────────┐\n",
              "│ product_id │                            product_name                             │ unit_size │\n",
              "│   int64    │                               varchar                               │  varchar  │\n",
              "├────────────┼─────────────────────────────────────────────────────────────────────┼───────────┤\n",
              "│       3001 │ Smallfolk Essentials Herbal The Reach Oats (16 oz)                  │ 16 oz     │\n",
              "│       3008 │ Smallfolk Essentials Spiced The Reach Broth (16 oz)                 │ 16 oz     │\n",
              "│       3010 │ Smallfolk Essentials Spiced Highgarden Beans (16 oz)                │ 16 oz     │\n",
              "│       3012 │ The King’s Pantry Select Herbal Crownlands Pasta (16 oz)            │ 16 oz     │\n",
              "│       3017 │ Crown Reserve Golden Oldtown Pasta (16 oz)                          │ 16 oz     │\n",
              "│       3023 │ Smallfolk Essentials Stone-Ground The North Beans (16 oz)           │ 16 oz     │\n",
              "│       3024 │ The King’s Pantry Select Roasted Highgarden Tomato Paste (16 oz)    │ 16 oz     │\n",
              "│       3026 │ Smallfolk Essentials Sea-Salted The Vale Pasta (16 oz)              │ 16 oz     │\n",
              "│       3030 │ Smallfolk Essentials Vintage Oldtown Oats (16 oz)                   │ 16 oz     │\n",
              "│       3032 │ The King’s Pantry Select Stone-Ground The Vale Pasta (16 oz)        │ 16 oz     │\n",
              "│         ·  │                              ·                                      │   ·       │\n",
              "│         ·  │                              ·                                      │   ·       │\n",
              "│         ·  │                              ·                                      │   ·       │\n",
              "│       3438 │ Northwind Frozen Foods Stone-Ground Crownlands Berry Sorbet (16 oz) │ 16 oz     │\n",
              "│       3439 │ Northwind Frozen Foods Honeyed Highgarden Fish Pie (16 oz)          │ 16 oz     │\n",
              "│       3450 │ Northwind Frozen Foods Honeyed Iron Islands Fish Pie (16 oz)        │ 16 oz     │\n",
              "│       3456 │ Northwind Frozen Foods Vintage Iron Islands Fish Pie (16 oz)        │ 16 oz     │\n",
              "│       3502 │ Smallfolk Essentials Sea-Salted Stormlands Surface Cleanser (16 oz) │ 16 oz     │\n",
              "│       3509 │ Smallfolk Essentials Honeyed The Vale Mint Ointment (16 oz)         │ 16 oz     │\n",
              "│       3522 │ Maester’s Apothecary Co. Herbal Highgarden Cotton Rags (16 oz)      │ 16 oz     │\n",
              "│       3527 │ Maester’s Apothecary Co. Herbal The Vale Perfumed Oil (16 oz)       │ 16 oz     │\n",
              "│       3530 │ Maester’s Apothecary Co. Lavender Iron Islands Liquid Wash (16 oz)  │ 16 oz     │\n",
              "│       3534 │ Maester’s Apothecary Co. Pure The North Cotton Rags (16 oz)         │ 16 oz     │\n",
              "├────────────┴─────────────────────────────────────────────────────────────────────┴───────────┤\n",
              "│ 72 rows (20 shown)                                                                 3 columns │\n",
              "└──────────────────────────────────────────────────────────────────────────────────────────────┘"
            ]
          },
          "metadata": {},
          "execution_count": 18
        }
      ],
      "source": [
        "duckdb.sql(\"\"\"\n",
        "SELECT product_id, product_name, unit_size\n",
        "FROM product\n",
        "WHERE unit_size = '16 oz'\n",
        "ORDER BY product_id;\n",
        "\"\"\")"
      ]
    },
    {
      "cell_type": "markdown",
      "id": "EFGVcKa3SLyl",
      "metadata": {
        "id": "EFGVcKa3SLyl"
      },
      "source": [
        "### 🏰 Quest 11 — The Royal Menu  \n",
        "**Objective:** DISTINCT and ORDER BY  \n",
        "List all unique product categories in the realm, sorted alphabetically.\n"
      ]
    },
    {
      "cell_type": "code",
      "execution_count": 19,
      "id": "ncfkF2HLSPaR",
      "metadata": {
        "id": "ncfkF2HLSPaR",
        "colab": {
          "base_uri": "https://localhost:8080/"
        },
        "outputId": "2cbb1398-7afd-4b15-b66b-9f535a929706"
      },
      "outputs": [
        {
          "output_type": "execute_result",
          "data": {
            "text/plain": [
              "┌───────────────────────────────────┐\n",
              "│          item_taxonomy_1          │\n",
              "│              varchar              │\n",
              "├───────────────────────────────────┤\n",
              "│ Apothecary & Household Essentials │\n",
              "│ Bakery & Sweets                   │\n",
              "│ Beverages                         │\n",
              "│ Frozen & Prepared                 │\n",
              "│ Gourmet & Specialty               │\n",
              "│ Meat & Seafood                    │\n",
              "│ Pantry Essentials                 │\n",
              "│ Produce                           │\n",
              "└───────────────────────────────────┘"
            ]
          },
          "metadata": {},
          "execution_count": 19
        }
      ],
      "source": [
        "duckdb.sql(\"\"\"\n",
        "SELECT DISTINCT item_taxonomy_1\n",
        "FROM product\n",
        "ORDER BY item_taxonomy_1;\n",
        "\"\"\")"
      ]
    },
    {
      "cell_type": "markdown",
      "id": "Zze1M8eJSTgk",
      "metadata": {
        "id": "Zze1M8eJSTgk"
      },
      "source": [
        "### 💰 Quest 12 — The Coin Counter  \n",
        "**Objective:** Derived columns with arithmetic  \n",
        "For each product, calculate its potential gross revenue (`base_price * 100` as a placeholder for quantity).\n"
      ]
    },
    {
      "cell_type": "code",
      "execution_count": 20,
      "id": "rLq4VHyESdYO",
      "metadata": {
        "id": "rLq4VHyESdYO",
        "colab": {
          "base_uri": "https://localhost:8080/"
        },
        "outputId": "d1e7f473-5831-4492-db53-d92cd2b91dd0"
      },
      "outputs": [
        {
          "output_type": "execute_result",
          "data": {
            "text/plain": [
              "┌──────────────────────────────────────────────────────────────────────┬────────────┬─────────────────┐\n",
              "│                             product_name                             │ base_price │ gross_potential │\n",
              "│                               varchar                                │   double   │     double      │\n",
              "├──────────────────────────────────────────────────────────────────────┼────────────┼─────────────────┤\n",
              "│ Crown Reserve Wild The Vale Chicken Breast (16 oz)                   │      53.87 │          5387.0 │\n",
              "│ Crown Reserve Roasted The Vale Venison Cuts (12 oz)                  │      42.76 │          4276.0 │\n",
              "│ Crown Reserve Wild Dorne Pigeon Pie (4-Pack)                         │      32.72 │          3272.0 │\n",
              "│ Crown Reserve Oak-Aged Dorne Fish Pie (4-Pack)                       │      32.47 │          3247.0 │\n",
              "│ The King’s Pantry Select Wild Stormlands Honey Jar (8 oz)            │      32.14 │          3214.0 │\n",
              "│ Crown Reserve Vintage Dorne Herb Dumplings (4-Pack)                  │      31.79 │          3179.0 │\n",
              "│ Dornish Spice Traders Stone-Ground Stormlands Spice Blend (8 oz)     │       31.5 │          3150.0 │\n",
              "│ Crown Reserve Sea-Salted Iron Islands Scrubbing Brush (250 ml)       │      30.77 │          3077.0 │\n",
              "│ The King’s Pantry Select Stone-Ground Highgarden Trout Fillet (1 lb) │      30.32 │          3032.0 │\n",
              "│ Dornish Spice Traders Wild The North Sea Salt (250 ml)               │      30.06 │          3006.0 │\n",
              "│                          ·                                           │         ·  │             ·   │\n",
              "│                          ·                                           │         ·  │             ·   │\n",
              "│                          ·                                           │         ·  │             ·   │\n",
              "│ Smallfolk Essentials Wild Highgarden Rye Loaf (Loaf)                 │       2.04 │           204.0 │\n",
              "│ Vale Harvest Co. Golden Oldtown Rice (2 lb)                          │       2.02 │           202.0 │\n",
              "│ Vale Harvest Co. Sea-Salted Dragonstone Pasta (16 oz)                │       1.98 │           198.0 │\n",
              "│ Smallfolk Essentials Sea-Salted The Vale Potatoes (2 lb)             │       1.94 │           194.0 │\n",
              "│ Smallfolk Essentials Wild Oldtown Flour (2 lb)                       │       1.82 │           182.0 │\n",
              "│ House Tyrell Provisions Honeyed The North Potatoes (Bunch)           │       1.76 │           176.0 │\n",
              "│ House Tyrell Provisions Spiced Stormlands Strawberries (Each)        │       1.76 │           176.0 │\n",
              "│ Vale Harvest Co. Roasted Crownlands Oats (1 kg)                      │       1.74 │           174.0 │\n",
              "│ Vale Harvest Co. Roasted Oldtown Rice (16 oz)                        │       1.64 │           164.0 │\n",
              "│ Smallfolk Essentials Herbal The Reach Oats (16 oz)                   │       1.52 │           152.0 │\n",
              "├──────────────────────────────────────────────────────────────────────┴────────────┴─────────────────┤\n",
              "│ 540 rows (20 shown)                                                                       3 columns │\n",
              "└─────────────────────────────────────────────────────────────────────────────────────────────────────┘"
            ]
          },
          "metadata": {},
          "execution_count": 20
        }
      ],
      "source": [
        "duckdb.sql(\"\"\"\n",
        "SELECT product_name,\n",
        "       base_price,\n",
        "       (base_price * 100) AS gross_potential\n",
        "FROM product\n",
        "ORDER BY gross_potential DESC;\n",
        "\"\"\")"
      ]
    },
    {
      "cell_type": "markdown",
      "id": "xhe-Q60ESXh8",
      "metadata": {
        "id": "xhe-Q60ESXh8"
      },
      "source": [
        "### 🌨 Quest 13 — The Northern Vendors  \n",
        "**Objective:** Text matching with LIKE  \n",
        "Find all vendors whose region includes “North.”\n"
      ]
    },
    {
      "cell_type": "code",
      "execution_count": 21,
      "id": "q5JfMxWJSlXw",
      "metadata": {
        "id": "q5JfMxWJSlXw",
        "colab": {
          "base_uri": "https://localhost:8080/"
        },
        "outputId": "aa15f2f1-a5fd-456a-e883-20996497edcb"
      },
      "outputs": [
        {
          "output_type": "execute_result",
          "data": {
            "text/plain": [
              "┌────────────────────────┬───────────┐\n",
              "│      vendor_name       │  region   │\n",
              "│        varchar         │  varchar  │\n",
              "├────────────────────────┼───────────┤\n",
              "│ Northwind Frozen Foods │ The North │\n",
              "└────────────────────────┴───────────┘"
            ]
          },
          "metadata": {},
          "execution_count": 21
        }
      ],
      "source": [
        "duckdb.sql(\"\"\"\n",
        "SELECT vendor_name, region\n",
        "FROM vendor\n",
        "WHERE region LIKE '%North%';\n",
        "\"\"\")"
      ]
    },
    {
      "cell_type": "markdown",
      "id": "cNDMKO6LSamU",
      "metadata": {
        "id": "cNDMKO6LSamU"
      },
      "source": [
        "### 📜 Quest 14 — The Royal Ledger Review  \n",
        "**Objective:** Filtering and sorting numeric columns  \n",
        "Show all sales orders with a total greater than 100 gold coins, sorted from highest to lowest total.\n"
      ]
    },
    {
      "cell_type": "code",
      "execution_count": 22,
      "id": "dM23AM7wSty_",
      "metadata": {
        "id": "dM23AM7wSty_",
        "colab": {
          "base_uri": "https://localhost:8080/"
        },
        "outputId": "2a85669d-7422-4d51-b189-0aa10a043a70"
      },
      "outputs": [
        {
          "output_type": "execute_result",
          "data": {
            "text/plain": [
              "┌─────────────────┬─────────────────┐\n",
              "│      realm      │ total_customers │\n",
              "│     varchar     │      int64      │\n",
              "├─────────────────┼─────────────────┤\n",
              "│ Iron Islands    │             442 │\n",
              "│ The Stormlands  │             435 │\n",
              "│ The Vale        │             427 │\n",
              "│ The Westerlands │             426 │\n",
              "│ Dorne           │             425 │\n",
              "│ The Riverlands  │             419 │\n",
              "│ Crownlands      │             409 │\n",
              "│ The Reach       │             407 │\n",
              "│ The North       │             370 │\n",
              "└─────────────────┴─────────────────┘"
            ]
          },
          "metadata": {},
          "execution_count": 22
        }
      ],
      "source": [
        "duckdb.sql(\"\"\"\n",
        "SELECT realm, COUNT(*) AS total_customers\n",
        "FROM customer\n",
        "GROUP BY realm\n",
        "ORDER BY total_customers DESC;\n",
        "\"\"\")"
      ]
    },
    {
      "cell_type": "markdown",
      "id": "Yqdow-QgVgzV",
      "metadata": {
        "id": "Yqdow-QgVgzV"
      },
      "source": [
        "### 🤝 Quest 15 — The Loyal Houses  \n",
        "**Objective:** GROUP BY and COUNT  \n",
        "Count how many customers belong to each realm.\n"
      ]
    },
    {
      "cell_type": "code",
      "execution_count": 23,
      "id": "mPV9M0rlVmsO",
      "metadata": {
        "id": "mPV9M0rlVmsO",
        "colab": {
          "base_uri": "https://localhost:8080/"
        },
        "outputId": "1571eaf2-d654-442f-fcc5-61ad45d4f2c3"
      },
      "outputs": [
        {
          "output_type": "execute_result",
          "data": {
            "text/plain": [
              "┌─────────────────┬─────────────────┐\n",
              "│      realm      │ total_customers │\n",
              "│     varchar     │      int64      │\n",
              "├─────────────────┼─────────────────┤\n",
              "│ Iron Islands    │             442 │\n",
              "│ The Stormlands  │             435 │\n",
              "│ The Vale        │             427 │\n",
              "│ The Westerlands │             426 │\n",
              "│ Dorne           │             425 │\n",
              "│ The Riverlands  │             419 │\n",
              "│ Crownlands      │             409 │\n",
              "│ The Reach       │             407 │\n",
              "│ The North       │             370 │\n",
              "└─────────────────┴─────────────────┘"
            ]
          },
          "metadata": {},
          "execution_count": 23
        }
      ],
      "source": [
        "duckdb.sql(\"\"\"\n",
        "SELECT realm, COUNT(*) AS total_customers\n",
        "FROM customer\n",
        "GROUP BY realm\n",
        "ORDER BY total_customers DESC;\n",
        "\"\"\")"
      ]
    },
    {
      "cell_type": "markdown",
      "id": "HivwJRD4R4Oj",
      "metadata": {
        "id": "HivwJRD4R4Oj"
      },
      "source": [
        "\n",
        "## 🏁 Epilogue — The Ledger Closes  \n",
        "\n",
        "Your journey through *The King’s Pantry* is complete.  \n",
        "\n",
        "But the story doesn’t end here — check out the next course 'Lord of the Kingsguard' where you'll learn:\n",
        "\n",
        "You’ll learn:\n",
        "\n",
        "- JOINs\n",
        "- GROUP BY\n",
        "- CASE\n",
        "- Subqueries\n",
        "- Aggregate logic\n",
        "\n",
        "You'll be challenged to:\n",
        "- Manually data load\n",
        "- Less code walkthroughs\n",
        "\n",
        "\n",
        "**Achievement Unlocked:** *Squire Analyst of the Realm* 🧙‍♀️  \n",
        "\n",
        "**The Mercury Brand System** | [mercurymusings.com](https://mercurymusings.com)\n"
      ]
    }
  ],
  "metadata": {
    "colab": {
      "provenance": [],
      "include_colab_link": true
    },
    "kernelspec": {
      "display_name": "Python 3 (SQL content in cells)",
      "language": "python",
      "name": "python3"
    },
    "language_info": {
      "name": "python",
      "version": "3.10"
    }
  },
  "nbformat": 4,
  "nbformat_minor": 5
}